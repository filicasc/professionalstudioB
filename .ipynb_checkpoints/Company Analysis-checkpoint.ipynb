{
 "cells": [
  {
   "cell_type": "code",
   "execution_count": null,
   "id": "explicit-examination",
   "metadata": {},
   "outputs": [],
   "source": [
    "import numpy as np\n",
    "import matplotlib.pyplot as plt\n",
    "import pandas as pd\n",
    "import umap\n",
    "import sys\n",
    "import argparse\n",
    "import yfinance as yf\n"
   ]
  },
  {
   "cell_type": "code",
   "execution_count": null,
   "id": "willing-czech",
   "metadata": {},
   "outputs": [],
   "source": [
    "clusters = pd.read_csv(\"output/clusters_latest.csv\")"
   ]
  },
  {
   "cell_type": "code",
   "execution_count": null,
   "id": "downtown-pacific",
   "metadata": {},
   "outputs": [],
   "source": [
    "#print(clusters.head(5))\n",
    "test_list_zero = []\n",
    "test_list_one = []\n",
    "test_list_two = []\n",
    "test_list_three = []\n",
    "test_list_four = []\n",
    "test_list_five = []\n",
    "test_list_six = []"
   ]
  },
  {
   "cell_type": "code",
   "execution_count": null,
   "id": "foreign-smell",
   "metadata": {},
   "outputs": [],
   "source": [
    "# Loop through clusters csv dataframe and separate companies by cluster value\n",
    "for x in clusters.iterrows():\n",
    "    if(x[1]['Cluster'] == 0):\n",
    "        #print(x[1]['Company'])\n",
    "        test_list_zero.append([x[1]['Company'], x[1]['X'], x[1]['y'], x[1]['Cluster']])\n",
    "    elif(x[1]['Cluster'] == 1):\n",
    "        test_list_one.append([x[1]['Company'], x[1]['X'], x[1]['y'], x[1]['Cluster']])\n",
    "    elif(x[1]['Cluster'] == 2):\n",
    "        test_list_two.append([x[1]['Company'], x[1]['X'], x[1]['y'], x[1]['Cluster']])\n",
    "    elif(x[1]['Cluster'] == 3):\n",
    "        test_list_three.append([x[1]['Company'], x[1]['X'], x[1]['y'], x[1]['Cluster']])\n",
    "    elif(x[1]['Cluster'] == 4):\n",
    "        test_list_four.append([x[1]['Company'], x[1]['X'], x[1]['y'], x[1]['Cluster']])\n",
    "    elif(x[1]['Cluster'] == 5):\n",
    "        test_list_five.append([x[1]['Company'], x[1]['X'], x[1]['y'], x[1]['Cluster']])\n",
    "    elif(x[1]['Cluster'] == 6):\n",
    "        test_list_six.append([x[1]['Company'], x[1]['X'], x[1]['y'], x[1]['Cluster']])"
   ]
  },
  {
   "cell_type": "code",
   "execution_count": null,
   "id": "forward-fifteen",
   "metadata": {},
   "outputs": [],
   "source": [
    "# Roundabout way of separating all the companies by cluster through dataframes\n",
    "df_zero = pd.DataFrame(test_list_zero, columns=['Company', 'X', 'Y','Cluster'])\n",
    "df_one = pd.DataFrame(test_list_one, columns=['Company', 'X', 'Y','Cluster'])\n",
    "df_two = pd.DataFrame(test_list_two, columns=['Company', 'X', 'Y','Cluster'])\n",
    "df_three = pd.DataFrame(test_list_three, columns=['Company', 'X', 'Y','Cluster'])\n",
    "df_four = pd.DataFrame(test_list_four, columns=['Company', 'X', 'Y','Cluster'])\n",
    "df_five = pd.DataFrame(test_list_five, columns=['Company', 'X', 'Y','Cluster'])\n",
    "df_six = pd.DataFrame(test_list_six, columns=['Company', 'X', 'Y','Cluster'])"
   ]
  },
  {
   "cell_type": "code",
   "execution_count": 140,
   "id": "federal-corner",
   "metadata": {},
   "outputs": [
    {
     "name": "stdout",
     "output_type": "stream",
     "text": [
      "   Company         X         Y  Cluster\n",
      "0     ABBV  1.489032  3.509284        0\n",
      "1      AIZ -0.180474  4.559444        0\n",
      "2      AJG  0.108207  3.973986        0\n",
      "3      ALL -0.034358  4.180290        0\n",
      "4     ALXN  1.493722  3.639176        0\n",
      "..     ...       ...       ...      ...\n",
      "64      VZ  0.657188  5.106683        0\n",
      "65    WLTW  0.057717  3.885139        0\n",
      "66      WM  0.496411  3.809645        0\n",
      "67     WMT  1.124555  4.445329        0\n",
      "68    XRAY -0.103299  5.527748        0\n",
      "\n",
      "[69 rows x 4 columns]\n"
     ]
    }
   ],
   "source": [
    "#print(df_zero['Company'])\n",
    "tmp_list = []\n",
    "test = yf.Ticker(df_six['Company'][1])\n",
    "print(df_zero)"
   ]
  },
  {
   "cell_type": "code",
   "execution_count": 134,
   "id": "satisfied-luxury",
   "metadata": {},
   "outputs": [
    {
     "ename": "KeyError",
     "evalue": "'sector'",
     "output_type": "error",
     "traceback": [
      "\u001b[0;31m---------------------------------------------------------------------------\u001b[0m",
      "\u001b[0;31mKeyError\u001b[0m                                  Traceback (most recent call last)",
      "\u001b[0;32m<ipython-input-134-977577487341>\u001b[0m in \u001b[0;36m<module>\u001b[0;34m\u001b[0m\n\u001b[1;32m      2\u001b[0m     \u001b[0;31m#print(x[1]['Company'])\u001b[0m\u001b[0;34m\u001b[0m\u001b[0;34m\u001b[0m\u001b[0;34m\u001b[0m\u001b[0m\n\u001b[1;32m      3\u001b[0m     \u001b[0mtmp\u001b[0m \u001b[0;34m=\u001b[0m \u001b[0myf\u001b[0m\u001b[0;34m.\u001b[0m\u001b[0mTicker\u001b[0m\u001b[0;34m(\u001b[0m\u001b[0mx\u001b[0m\u001b[0;34m[\u001b[0m\u001b[0;36m1\u001b[0m\u001b[0;34m]\u001b[0m\u001b[0;34m[\u001b[0m\u001b[0;34m'Company'\u001b[0m\u001b[0;34m]\u001b[0m\u001b[0;34m)\u001b[0m\u001b[0;34m\u001b[0m\u001b[0;34m\u001b[0m\u001b[0m\n\u001b[0;32m----> 4\u001b[0;31m     \u001b[0mtmp_list\u001b[0m\u001b[0;34m.\u001b[0m\u001b[0mappend\u001b[0m\u001b[0;34m(\u001b[0m\u001b[0;34m[\u001b[0m\u001b[0mx\u001b[0m\u001b[0;34m[\u001b[0m\u001b[0;36m1\u001b[0m\u001b[0;34m]\u001b[0m\u001b[0;34m[\u001b[0m\u001b[0;34m'Company'\u001b[0m\u001b[0;34m]\u001b[0m\u001b[0;34m,\u001b[0m \u001b[0mtmp\u001b[0m\u001b[0;34m.\u001b[0m\u001b[0minfo\u001b[0m\u001b[0;34m[\u001b[0m\u001b[0;34m'sector'\u001b[0m\u001b[0;34m]\u001b[0m\u001b[0;34m,\u001b[0m \u001b[0mtmp\u001b[0m\u001b[0;34m.\u001b[0m\u001b[0minfo\u001b[0m\u001b[0;34m[\u001b[0m\u001b[0;34m'fullTimeEmployees'\u001b[0m\u001b[0;34m]\u001b[0m\u001b[0;34m,\u001b[0m \u001b[0mtmp\u001b[0m\u001b[0;34m.\u001b[0m\u001b[0minfo\u001b[0m\u001b[0;34m[\u001b[0m\u001b[0;34m'industry'\u001b[0m\u001b[0;34m]\u001b[0m\u001b[0;34m]\u001b[0m\u001b[0;34m)\u001b[0m\u001b[0;34m\u001b[0m\u001b[0;34m\u001b[0m\u001b[0m\n\u001b[0m",
      "\u001b[0;31mKeyError\u001b[0m: 'sector'"
     ]
    }
   ],
   "source": [
    "for x in df_zero.iterrows():\n",
    "    #print(x[1]['Company'])\n",
    "    tmp = yf.Ticker(x[1]['Company'])\n",
    "    tmp_list.append([x[1]['Company'], tmp.info['sector'], tmp.info['fullTimeEmployees'], tmp.info['industry']])"
   ]
  },
  {
   "cell_type": "code",
   "execution_count": 135,
   "id": "center-morgan",
   "metadata": {},
   "outputs": [
    {
     "name": "stdout",
     "output_type": "stream",
     "text": [
      "[['ABBV', 'Healthcare', 47000, 'Drug Manufacturers—General'], ['AIZ', 'Financial Services', 13600, 'Insurance—Specialty'], ['AJG', 'Financial Services', 34000, 'Insurance Brokers'], ['ALL', 'Financial Services', 41860, 'Insurance—Property & Casualty'], ['ALXN', 'Healthcare', 3837, 'Biotechnology'], ['AMGN', 'Healthcare', 24300, 'Drug Manufacturers—General'], ['AON', 'Financial Services', 50000, 'Insurance Brokers'], ['BIIB', 'Healthcare', 9100, 'Drug Manufacturers—General'], ['BMY', 'Healthcare', 30250, 'Drug Manufacturers—General'], ['CAG', 'Consumer Defensive', 16500, 'Packaged Foods'], ['CB', 'Financial Services', 31000, 'Insurance—Property & Casualty'], ['CBOE', 'Financial Services', 1010, 'Financial Data & Stock Exchanges'], ['CERN', 'Healthcare', 26400, 'Health Information Services'], ['CHD', 'Consumer Defensive', 5100, 'Household & Personal Products'], ['CINF', 'Financial Services', 5266, 'Insurance—Property & Casualty'], ['CL', 'Consumer Defensive', 34200, 'Household & Personal Products'], ['CLX', 'Consumer Defensive', 8800, 'Household & Personal Products'], ['CME', 'Financial Services', 4370, 'Financial Data & Stock Exchanges'], ['COST', 'Consumer Defensive', 156000, 'Discount Stores'], ['CPB', 'Consumer Defensive', 14500, 'Packaged Foods'], ['DG', 'Consumer Defensive', 158000, 'Discount Stores'], ['DLTR', 'Consumer Defensive', 60217, 'Discount Stores'], ['GILD', 'Healthcare', 13600, 'Drug Manufacturers—General'], ['GIS', 'Consumer Defensive', 35000, 'Packaged Foods'], ['HIG', 'Financial Services', 18500, 'Insurance—Diversified'], ['HRL', 'Consumer Defensive', 20100, 'Packaged Foods'], ['HSIC', 'Healthcare', 19000, 'Medical Distribution'], ['HSY', 'Consumer Defensive', 15200, 'Confectioners'], ['ICE', 'Financial Services', 8964, 'Financial Data & Stock Exchanges'], ['INCY', 'Healthcare', 1773, 'Biotechnology'], ['JNJ', 'Healthcare', 134500, 'Drug Manufacturers—General'], ['K', 'Consumer Defensive', 31000, 'Packaged Foods'], ['KHC', 'Consumer Defensive', 38000, 'Packaged Foods'], ['KMB', 'Consumer Defensive', 46000, 'Household & Personal Products'], ['KO', 'Consumer Defensive', 80300, 'Beverages—Non-Alcoholic'], ['KR', 'Consumer Defensive', 465000, 'Grocery Stores'], ['MCD', 'Consumer Cyclical', 200000, 'Restaurants'], ['MCO', 'Financial Services', 11558, 'Financial Data & Stock Exchanges'], ['MDLZ', 'Consumer Defensive', 79000, 'Confectioners'], ['MKC', 'Consumer Defensive', 13000, 'Packaged Foods'], ['MMC', 'Financial Services', 76000, 'Insurance Brokers'], ['MNST', 'Consumer Defensive', 3013, 'Beverages—Non-Alcoholic'], ['MO', 'Consumer Defensive', 7100, 'Tobacco'], ['MRK', 'Healthcare', 73000, 'Drug Manufacturers—General'], ['NDAQ', 'Financial Services', 4830, 'Financial Data & Stock Exchanges'], ['PCG', 'Utilities', 24000, 'Utilities—Regulated Electric'], ['PEP', 'Consumer Defensive', 291000, 'Beverages—Non-Alcoholic'], ['PFE', 'Healthcare', 78500, 'Drug Manufacturers—General'], ['PG', 'Consumer Defensive', 99000, 'Household & Personal Products'], ['PGR', 'Financial Services', 43326, 'Insurance—Property & Casualty'], ['PM', 'Consumer Defensive', 71000, 'Tobacco'], ['RE', 'Financial Services', 1746, 'Insurance—Reinsurance'], ['REGN', 'Healthcare', 9123, 'Biotechnology'], ['RSG', 'Industrials', 35000, 'Waste Management']]\n"
     ]
    }
   ],
   "source": [
    "#test = yf.Ticker(df_six['Company'][1])\n",
    "#test.info\n",
    "print(tmp_list)"
   ]
  },
  {
   "cell_type": "code",
   "execution_count": 136,
   "id": "unknown-stockholm",
   "metadata": {},
   "outputs": [],
   "source": [
    "cluster_zero = pd.DataFrame(tmp_list, columns=['Company', 'Sector', 'No. of Employees', 'Industry'])"
   ]
  },
  {
   "cell_type": "code",
   "execution_count": 137,
   "id": "small-delight",
   "metadata": {},
   "outputs": [
    {
     "name": "stdout",
     "output_type": "stream",
     "text": [
      "   Company              Sector  No. of Employees  \\\n",
      "0     ABBV          Healthcare             47000   \n",
      "1      AIZ  Financial Services             13600   \n",
      "2      AJG  Financial Services             34000   \n",
      "3      ALL  Financial Services             41860   \n",
      "4     ALXN          Healthcare              3837   \n",
      "5     AMGN          Healthcare             24300   \n",
      "6      AON  Financial Services             50000   \n",
      "7     BIIB          Healthcare              9100   \n",
      "8      BMY          Healthcare             30250   \n",
      "9      CAG  Consumer Defensive             16500   \n",
      "10      CB  Financial Services             31000   \n",
      "11    CBOE  Financial Services              1010   \n",
      "12    CERN          Healthcare             26400   \n",
      "13     CHD  Consumer Defensive              5100   \n",
      "14    CINF  Financial Services              5266   \n",
      "15      CL  Consumer Defensive             34200   \n",
      "16     CLX  Consumer Defensive              8800   \n",
      "17     CME  Financial Services              4370   \n",
      "18    COST  Consumer Defensive            156000   \n",
      "19     CPB  Consumer Defensive             14500   \n",
      "20      DG  Consumer Defensive            158000   \n",
      "21    DLTR  Consumer Defensive             60217   \n",
      "22    GILD          Healthcare             13600   \n",
      "23     GIS  Consumer Defensive             35000   \n",
      "24     HIG  Financial Services             18500   \n",
      "25     HRL  Consumer Defensive             20100   \n",
      "26    HSIC          Healthcare             19000   \n",
      "27     HSY  Consumer Defensive             15200   \n",
      "28     ICE  Financial Services              8964   \n",
      "29    INCY          Healthcare              1773   \n",
      "30     JNJ          Healthcare            134500   \n",
      "31       K  Consumer Defensive             31000   \n",
      "32     KHC  Consumer Defensive             38000   \n",
      "33     KMB  Consumer Defensive             46000   \n",
      "34      KO  Consumer Defensive             80300   \n",
      "35      KR  Consumer Defensive            465000   \n",
      "36     MCD   Consumer Cyclical            200000   \n",
      "37     MCO  Financial Services             11558   \n",
      "38    MDLZ  Consumer Defensive             79000   \n",
      "39     MKC  Consumer Defensive             13000   \n",
      "40     MMC  Financial Services             76000   \n",
      "41    MNST  Consumer Defensive              3013   \n",
      "42      MO  Consumer Defensive              7100   \n",
      "43     MRK          Healthcare             73000   \n",
      "44    NDAQ  Financial Services              4830   \n",
      "45     PCG           Utilities             24000   \n",
      "46     PEP  Consumer Defensive            291000   \n",
      "47     PFE          Healthcare             78500   \n",
      "48      PG  Consumer Defensive             99000   \n",
      "49     PGR  Financial Services             43326   \n",
      "50      PM  Consumer Defensive             71000   \n",
      "51      RE  Financial Services              1746   \n",
      "52    REGN          Healthcare              9123   \n",
      "53     RSG         Industrials             35000   \n",
      "\n",
      "                            Industry  \n",
      "0         Drug Manufacturers—General  \n",
      "1                Insurance—Specialty  \n",
      "2                  Insurance Brokers  \n",
      "3      Insurance—Property & Casualty  \n",
      "4                      Biotechnology  \n",
      "5         Drug Manufacturers—General  \n",
      "6                  Insurance Brokers  \n",
      "7         Drug Manufacturers—General  \n",
      "8         Drug Manufacturers—General  \n",
      "9                     Packaged Foods  \n",
      "10     Insurance—Property & Casualty  \n",
      "11  Financial Data & Stock Exchanges  \n",
      "12       Health Information Services  \n",
      "13     Household & Personal Products  \n",
      "14     Insurance—Property & Casualty  \n",
      "15     Household & Personal Products  \n",
      "16     Household & Personal Products  \n",
      "17  Financial Data & Stock Exchanges  \n",
      "18                   Discount Stores  \n",
      "19                    Packaged Foods  \n",
      "20                   Discount Stores  \n",
      "21                   Discount Stores  \n",
      "22        Drug Manufacturers—General  \n",
      "23                    Packaged Foods  \n",
      "24             Insurance—Diversified  \n",
      "25                    Packaged Foods  \n",
      "26              Medical Distribution  \n",
      "27                     Confectioners  \n",
      "28  Financial Data & Stock Exchanges  \n",
      "29                     Biotechnology  \n",
      "30        Drug Manufacturers—General  \n",
      "31                    Packaged Foods  \n",
      "32                    Packaged Foods  \n",
      "33     Household & Personal Products  \n",
      "34           Beverages—Non-Alcoholic  \n",
      "35                    Grocery Stores  \n",
      "36                       Restaurants  \n",
      "37  Financial Data & Stock Exchanges  \n",
      "38                     Confectioners  \n",
      "39                    Packaged Foods  \n",
      "40                 Insurance Brokers  \n",
      "41           Beverages—Non-Alcoholic  \n",
      "42                           Tobacco  \n",
      "43        Drug Manufacturers—General  \n",
      "44  Financial Data & Stock Exchanges  \n",
      "45      Utilities—Regulated Electric  \n",
      "46           Beverages—Non-Alcoholic  \n",
      "47        Drug Manufacturers—General  \n",
      "48     Household & Personal Products  \n",
      "49     Insurance—Property & Casualty  \n",
      "50                           Tobacco  \n",
      "51             Insurance—Reinsurance  \n",
      "52                     Biotechnology  \n",
      "53                  Waste Management  \n"
     ]
    }
   ],
   "source": [
    "print(cluster_zero)"
   ]
  },
  {
   "cell_type": "code",
   "execution_count": null,
   "id": "welsh-marina",
   "metadata": {},
   "outputs": [],
   "source": []
  }
 ],
 "metadata": {
  "kernelspec": {
   "display_name": "Python 3",
   "language": "python",
   "name": "python3"
  }
 },
 "nbformat": 4,
 "nbformat_minor": 5
}
