{
 "cells": [
  {
   "cell_type": "code",
   "execution_count": 1,
   "id": "descending-negotiation",
   "metadata": {},
   "outputs": [],
   "source": [
    "import csv\n",
    "import collections"
   ]
  },
  {
   "cell_type": "code",
   "execution_count": 9,
   "id": "fourth-faith",
   "metadata": {},
   "outputs": [
    {
     "name": "stdout",
     "output_type": "stream",
     "text": [
      "[('Financial Services', 39), ('Consumer Cyclical', 30), ('Industrials', 11), ('Technology', 9), ('Healthcare', 7), ('Communication Services', 7), ('Basic Materials', 5), ('Consumer Defensive', 2), ('Sector', 1)]\n"
     ]
    }
   ],
   "source": [
    "# Do a count of occurrences\n",
    "test = collections.Counter()\n",
    "with open('./data/clustered_companies/cluster_two.csv') as input_file:\n",
    "    for row in csv.reader(input_file, delimiter=','):\n",
    "        test[row[1]] += 1 # change row[n] where n is the column number to be looked at\n",
    "        \n",
    "print(test.most_common())"
   ]
  },
  {
   "cell_type": "code",
   "execution_count": null,
   "id": "certified-reggae",
   "metadata": {},
   "outputs": [],
   "source": []
  }
 ],
 "metadata": {
  "kernelspec": {
   "display_name": "Python 3",
   "language": "python",
   "name": "python3"
  },
  "language_info": {
   "codemirror_mode": {
    "name": "ipython",
    "version": 3
   },
   "file_extension": ".py",
   "mimetype": "text/x-python",
   "name": "python",
   "nbconvert_exporter": "python",
   "pygments_lexer": "ipython3",
   "version": "3.8.5"
  }
 },
 "nbformat": 4,
 "nbformat_minor": 5
}
