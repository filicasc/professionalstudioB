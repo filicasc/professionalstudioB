{
 "cells": [
  {
   "cell_type": "code",
   "execution_count": 43,
   "id": "common-ballot",
   "metadata": {},
   "outputs": [],
   "source": [
    "import matplotlib.pyplot as plt\n",
    "%matplotlib inline\n",
    "import numpy as np\n",
    "from sklearn.cluster import KMeans\n",
    "import pandas as pd\n",
    "from sklearn import metrics\n",
    "from texttable import Texttable"
   ]
  },
  {
   "cell_type": "code",
   "execution_count": 51,
   "id": "steady-chosen",
   "metadata": {},
   "outputs": [
    {
     "name": "stdout",
     "output_type": "stream",
     "text": [
      "UMAP Inertia: 756.4737111291731\n",
      "UMAP Calinski Harabasz Index: 1347.602272337255\n"
     ]
    }
   ],
   "source": [
    "X = np.genfromtxt('output/file.csv', delimiter=',')\n",
    "X = np.delete(X, 0, 1)\n",
    "X = np.delete(X, 0, 0)\n",
    "\n",
    "kmeans = KMeans(n_clusters=7)\n",
    "kmeans.fit(X)\n",
    "labels = kmeans.labels_\n",
    "\n",
    "umap_index = []\n",
    "umap_index.append(kmeans.inertia_)\n",
    "umap_index.append(metrics.calinski_harabasz_score(X,labels))\n",
    "print(\"UMAP Inertia: \" + str(umap_index[0]))\n",
    "print(\"UMAP Calinski Harabasz Index: \" + str(umap_index[1]))"
   ]
  },
  {
   "cell_type": "code",
   "execution_count": 54,
   "id": "honest-aviation",
   "metadata": {},
   "outputs": [
    {
     "name": "stdout",
     "output_type": "stream",
     "text": [
      "PCA Inertia: 4.777476643281949\n",
      "PCA Calinski Harabasz Index: 685.4927385313415\n"
     ]
    }
   ],
   "source": [
    "X = np.genfromtxt('output/pca_file.csv', delimiter=',')\n",
    "X = np.delete(X, 0, 1)\n",
    "X = np.delete(X, 0, 0)\n",
    "\n",
    "kmeans = KMeans(n_clusters=7)\n",
    "kmeans.fit(X)\n",
    "labels = kmeans.labels_\n",
    "\n",
    "pca_index = []\n",
    "pca_index.append(kmeans.inertia_)\n",
    "pca_index.append(metrics.calinski_harabasz_score(X,labels))\n",
    "print(\"PCA Inertia: \" + str(pca_index[0]))\n",
    "print(\"PCA Calinski Harabasz Index: \" + str(pca_index[1]))"
   ]
  },
  {
   "cell_type": "code",
   "execution_count": 55,
   "id": "yellow-opera",
   "metadata": {},
   "outputs": [
    {
     "name": "stdout",
     "output_type": "stream",
     "text": [
      "t-SNE Inertia: 26169.0150543282\n",
      "t-SNE Calinski Harabasz Index: 780.3335281647322\n"
     ]
    }
   ],
   "source": [
    "X = np.genfromtxt('output/tsne_file.csv', delimiter=',')\n",
    "X = np.delete(X, 0, 1)\n",
    "X = np.delete(X, 0, 0)\n",
    "\n",
    "kmeans = KMeans(n_clusters=7)\n",
    "kmeans.fit(X)\n",
    "labels = kmeans.labels_\n",
    "\n",
    "tsne_index = []\n",
    "tsne_index.append(kmeans.inertia_)\n",
    "tsne_index.append(metrics.calinski_harabasz_score(X,labels))\n",
    "print(\"t-SNE Inertia: \" + str(tsne_index[0]))\n",
    "print(\"t-SNE Calinski Harabasz Index: \" + str(tsne_index[1]))"
   ]
  },
  {
   "cell_type": "code",
   "execution_count": 56,
   "id": "generous-prediction",
   "metadata": {},
   "outputs": [
    {
     "name": "stdout",
     "output_type": "stream",
     "text": [
      "K-means Inertia: 1.076763183509569\n",
      "K-means Calinski Harabasz Index: 584.6924913623092\n"
     ]
    }
   ],
   "source": [
    "X = np.genfromtxt('output/kmeans_file.csv', delimiter=',')\n",
    "X = np.delete(X, 0, 1)\n",
    "X = np.delete(X, 0, 0)\n",
    "\n",
    "kmeans = KMeans(n_clusters=7)\n",
    "kmeans.fit(X)\n",
    "labels = kmeans.labels_\n",
    "\n",
    "kmeans_index = []\n",
    "kmeans_index.append(kmeans.inertia_)\n",
    "kmeans_index.append(metrics.calinski_harabasz_score(X,labels))\n",
    "print(\"K-means Inertia: \" + str(kmeans_index[0]))\n",
    "print(\"K-means Calinski Harabasz Index: \" + str(kmeans_index[1]))"
   ]
  },
  {
   "cell_type": "code",
   "execution_count": 57,
   "id": "dress-thumb",
   "metadata": {},
   "outputs": [
    {
     "name": "stdout",
     "output_type": "stream",
     "text": [
      "UMAP & HDBSCAN Inertia: 815.7581393999686\n",
      "UMAP & HDBSCAN Calinski Harabasz Index: 1797.4912429711267\n"
     ]
    }
   ],
   "source": [
    "X = np.genfromtxt('output/umap_hdbscan_file.csv', delimiter=',')\n",
    "X = np.delete(X, 0, 1)\n",
    "X = np.delete(X, 0, 0)\n",
    "\n",
    "kmeans = KMeans(n_clusters=7)\n",
    "kmeans.fit(X)\n",
    "labels = kmeans.labels_\n",
    "\n",
    "hdb_index = []\n",
    "hdb_index.append(kmeans.inertia_)\n",
    "hdb_index.append(metrics.calinski_harabasz_score(X,labels))\n",
    "print(\"UMAP & HDBSCAN Inertia: \" + str(hdb_index[0]))\n",
    "print(\"UMAP & HDBSCAN Calinski Harabasz Index: \" + str(hdb_index[1]))"
   ]
  },
  {
   "cell_type": "code",
   "execution_count": 63,
   "id": "invisible-syndrome",
   "metadata": {},
   "outputs": [
    {
     "name": "stdout",
     "output_type": "stream",
     "text": [
      "+----------------------+-----------+-------------------------+\n",
      "| Clustering Algorithm |  Inertia  | Calinski Harabasz Index |\n",
      "+======================+===========+=========================+\n",
      "| UMAP & HDBSCAN       | 815.758   | 1797.491                |\n",
      "+----------------------+-----------+-------------------------+\n",
      "| UMAP                 | 756.474   | 1347.602                |\n",
      "+----------------------+-----------+-------------------------+\n",
      "| t-SNE                | 26169.015 | 780.334                 |\n",
      "+----------------------+-----------+-------------------------+\n",
      "| PCA                  | 4.777     | 685.493                 |\n",
      "+----------------------+-----------+-------------------------+\n",
      "| K-means              | 1.077     | 584.692                 |\n",
      "+----------------------+-----------+-------------------------+\n"
     ]
    }
   ],
   "source": [
    "t = Texttable()\n",
    "t.add_rows([['Clustering Algorithm', 'Inertia', 'Calinski Harabasz Index'],\n",
    "           ['UMAP & HDBSCAN', hdb_index[0], hdb_index[1]],\n",
    "           ['UMAP', umap_index[0], umap_index[1]],\n",
    "           ['t-SNE', tsne_index[0], tsne_index[1]],\n",
    "           ['PCA', pca_index[0], pca_index[1]],\n",
    "           ['K-means', kmeans_index[0], kmeans_index[1]]])\n",
    "print(t.draw())"
   ]
  },
  {
   "cell_type": "code",
   "execution_count": null,
   "id": "consistent-secretary",
   "metadata": {},
   "outputs": [],
   "source": []
  }
 ],
 "metadata": {
  "kernelspec": {
   "display_name": "Python 3",
   "language": "python",
   "name": "python3"
  },
  "language_info": {
   "codemirror_mode": {
    "name": "ipython",
    "version": 3
   },
   "file_extension": ".py",
   "mimetype": "text/x-python",
   "name": "python",
   "nbconvert_exporter": "python",
   "pygments_lexer": "ipython3",
   "version": "3.8.5"
  }
 },
 "nbformat": 4,
 "nbformat_minor": 5
}
