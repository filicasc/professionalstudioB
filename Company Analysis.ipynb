{
 "cells": [
  {
   "cell_type": "code",
   "execution_count": 1,
   "id": "explicit-examination",
   "metadata": {},
   "outputs": [],
   "source": [
    "import numpy as np\n",
    "import matplotlib.pyplot as plt\n",
    "import pandas as pd\n",
    "import umap\n",
    "import sys\n",
    "import argparse\n",
    "import yfinance as yf\n"
   ]
  },
  {
   "cell_type": "code",
   "execution_count": 2,
   "id": "willing-czech",
   "metadata": {},
   "outputs": [],
   "source": [
    "clusters = pd.read_csv(\"output/clusters_latest.csv\")"
   ]
  },
  {
   "cell_type": "code",
   "execution_count": 3,
   "id": "downtown-pacific",
   "metadata": {},
   "outputs": [],
   "source": [
    "#print(clusters.head(5))\n",
    "test_list_zero = []\n",
    "test_list_one = []\n",
    "test_list_two = []\n",
    "test_list_three = []\n",
    "test_list_four = []\n",
    "test_list_five = []\n",
    "test_list_six = []"
   ]
  },
  {
   "cell_type": "code",
   "execution_count": 4,
   "id": "foreign-smell",
   "metadata": {},
   "outputs": [],
   "source": [
    "# Loop through clusters csv dataframe and separate companies by cluster value\n",
    "for x in clusters.iterrows():\n",
    "    if(x[1]['Cluster'] == 0):\n",
    "        #print(x[1]['Company'])\n",
    "        test_list_zero.append([x[1]['Company'], x[1]['X'], x[1]['y'], x[1]['Cluster']])\n",
    "    elif(x[1]['Cluster'] == 1):\n",
    "        test_list_one.append([x[1]['Company'], x[1]['X'], x[1]['y'], x[1]['Cluster']])\n",
    "    elif(x[1]['Cluster'] == 2):\n",
    "        test_list_two.append([x[1]['Company'], x[1]['X'], x[1]['y'], x[1]['Cluster']])\n",
    "    elif(x[1]['Cluster'] == 3):\n",
    "        test_list_three.append([x[1]['Company'], x[1]['X'], x[1]['y'], x[1]['Cluster']])\n",
    "    elif(x[1]['Cluster'] == 4):\n",
    "        test_list_four.append([x[1]['Company'], x[1]['X'], x[1]['y'], x[1]['Cluster']])\n",
    "    elif(x[1]['Cluster'] == 5):\n",
    "        test_list_five.append([x[1]['Company'], x[1]['X'], x[1]['y'], x[1]['Cluster']])\n",
    "    elif(x[1]['Cluster'] == 6):\n",
    "        test_list_six.append([x[1]['Company'], x[1]['X'], x[1]['y'], x[1]['Cluster']])"
   ]
  },
  {
   "cell_type": "code",
   "execution_count": 5,
   "id": "forward-fifteen",
   "metadata": {},
   "outputs": [],
   "source": [
    "# Roundabout way of separating all the companies by cluster through dataframes\n",
    "df_zero = pd.DataFrame(test_list_zero, columns=['Company', 'X', 'Y','Cluster'])\n",
    "df_one = pd.DataFrame(test_list_one, columns=['Company', 'X', 'Y','Cluster'])\n",
    "df_two = pd.DataFrame(test_list_two, columns=['Company', 'X', 'Y','Cluster'])\n",
    "df_three = pd.DataFrame(test_list_three, columns=['Company', 'X', 'Y','Cluster'])\n",
    "df_four = pd.DataFrame(test_list_four, columns=['Company', 'X', 'Y','Cluster'])\n",
    "df_five = pd.DataFrame(test_list_five, columns=['Company', 'X', 'Y','Cluster'])\n",
    "df_six = pd.DataFrame(test_list_six, columns=['Company', 'X', 'Y','Cluster'])"
   ]
  },
  {
   "cell_type": "code",
   "execution_count": 6,
   "id": "federal-corner",
   "metadata": {
    "scrolled": true
   },
   "outputs": [
    {
     "name": "stdout",
     "output_type": "stream",
     "text": [
      "   Company         X         Y  Cluster\n",
      "0     ABBV  1.489032  3.509284        0\n",
      "1      AIZ -0.180474  4.559444        0\n",
      "2      AJG  0.108207  3.973986        0\n",
      "3      ALL -0.034358  4.180290        0\n",
      "4     ALXN  1.493722  3.639176        0\n",
      "..     ...       ...       ...      ...\n",
      "64      VZ  0.657188  5.106683        0\n",
      "65    WLTW  0.057717  3.885139        0\n",
      "66      WM  0.496411  3.809645        0\n",
      "67     WMT  1.124555  4.445329        0\n",
      "68    XRAY -0.103299  5.527748        0\n",
      "\n",
      "[69 rows x 4 columns]\n"
     ]
    }
   ],
   "source": [
    "#print(df_zero['Company'])\n",
    "\n",
    "test = yf.Ticker(df_six['Company'][1])\n",
    "print(df_zero)"
   ]
  },
  {
   "cell_type": "code",
   "execution_count": null,
   "id": "satisfied-luxury",
   "metadata": {},
   "outputs": [],
   "source": [
    "# Cluster Zero\n",
    "tmp_list = []\n",
    "for x in df_zero.iterrows():\n",
    "    try:\n",
    "        #print(x[1]['Company'])\n",
    "        tmp = yf.Ticker(x[1]['Company'])\n",
    "        tmp_list.append([x[1]['Company'], tmp.info['sector'], tmp.info['industry'], tmp.info['fullTimeEmployees'], tmp.info['netIncomeToCommon']])\n",
    "    except KeyError:\n",
    "        continue"
   ]
  },
  {
   "cell_type": "code",
   "execution_count": 12,
   "id": "center-morgan",
   "metadata": {},
   "outputs": [],
   "source": [
    "#test = yf.Ticker(df_six['Company'][1])\n",
    "#test.info\n",
    "#print(tmp_list)"
   ]
  },
  {
   "cell_type": "code",
   "execution_count": 9,
   "id": "unknown-stockholm",
   "metadata": {},
   "outputs": [],
   "source": [
    "cluster_zero = pd.DataFrame(tmp_list, columns=['Company', 'Sector', 'Industry', 'No. of Employees', 'Net Income to Common Stakeholders'])\n",
    "cluster_zero.to_csv(\"./data/cluster_zero.csv\", sep=',', index=False)"
   ]
  },
  {
   "cell_type": "code",
   "execution_count": 13,
   "id": "photographic-council",
   "metadata": {},
   "outputs": [],
   "source": [
    "#Cluster One\n",
    "tmp_list = []\n",
    "for x in df_one.iterrows():\n",
    "    #print(x[1]['Company'])\n",
    "    tmp = yf.Ticker(x[1]['Company'])\n",
    "    tmp_list.append([x[1]['Company'], tmp.info['sector'], tmp.info['industry'], tmp.info['fullTimeEmployees'], tmp.info['netIncomeToCommon']])"
   ]
  },
  {
   "cell_type": "code",
   "execution_count": 17,
   "id": "present-precipitation",
   "metadata": {},
   "outputs": [
    {
     "name": "stdout",
     "output_type": "stream",
     "text": [
      "   Company           Sector                               Industry  \\\n",
      "0      AEE        Utilities           Utilities—Regulated Electric   \n",
      "1      AEP        Utilities           Utilities—Regulated Electric   \n",
      "2      AES        Utilities                  Utilities—Diversified   \n",
      "3      AWK        Utilities              Utilities—Regulated Water   \n",
      "4      CMS        Utilities           Utilities—Regulated Electric   \n",
      "5      CNP        Utilities           Utilities—Regulated Electric   \n",
      "6        D        Utilities           Utilities—Regulated Electric   \n",
      "7      DTE        Utilities           Utilities—Regulated Electric   \n",
      "8      DUK        Utilities           Utilities—Regulated Electric   \n",
      "9       ED        Utilities           Utilities—Regulated Electric   \n",
      "10     EIX        Utilities           Utilities—Regulated Electric   \n",
      "11      ES        Utilities           Utilities—Regulated Electric   \n",
      "12     ETR        Utilities           Utilities—Regulated Electric   \n",
      "13     EXC        Utilities                  Utilities—Diversified   \n",
      "14      FE        Utilities           Utilities—Regulated Electric   \n",
      "15     LNT        Utilities           Utilities—Regulated Electric   \n",
      "16     NEE        Utilities           Utilities—Regulated Electric   \n",
      "17     NEM  Basic Materials                                   Gold   \n",
      "18      NI        Utilities                Utilities—Regulated Gas   \n",
      "19     NRG        Utilities  Utilities—Independent Power Producers   \n",
      "20     PEG        Utilities                  Utilities—Diversified   \n",
      "21     PNW        Utilities           Utilities—Regulated Electric   \n",
      "22     PPL        Utilities           Utilities—Regulated Electric   \n",
      "23      SO        Utilities           Utilities—Regulated Electric   \n",
      "24     SRE        Utilities                  Utilities—Diversified   \n",
      "25     WEC        Utilities           Utilities—Regulated Electric   \n",
      "26     XEL        Utilities           Utilities—Regulated Electric   \n",
      "\n",
      "    No. of Employees  Net Income to Common Stakeholders  \n",
      "0               9183                          958000000  \n",
      "1              16787                         2279899904  \n",
      "2               8162                         -249000000  \n",
      "3               7000                          718000000  \n",
      "4               8148                          861000000  \n",
      "5               9541                          626000000  \n",
      "6              17300                         2891000064  \n",
      "7              10600                         1424000000  \n",
      "8              27500                         1315000064  \n",
      "9              14071                         1144999936  \n",
      "10             13351                          815000000  \n",
      "11              9299                         1236557056  \n",
      "12             13400                         1604184960  \n",
      "13             32340                         1092000000  \n",
      "14             12153                         1314000000  \n",
      "15              3375                          615000000  \n",
      "16             14900                         4164000000  \n",
      "17             14300                         2367000064  \n",
      "18              7301                          148200000  \n",
      "19              4104                          307000000  \n",
      "20             12788                         2104999936  \n",
      "21              6026                          556206976  \n",
      "22             12318                         1467000064  \n",
      "23             27700                         3385999872  \n",
      "24             19000                         2108000000  \n",
      "25              7200                         1257500032  \n",
      "26             11367                         1540000000  \n"
     ]
    }
   ],
   "source": [
    "cluster_one = pd.DataFrame(tmp_list, columns=['Company', 'Sector', 'Industry', 'No. of Employees', 'Net Income to Common Stakeholders'])\n",
    "print(cluster_one)\n",
    "cluster_one.to_csv(\"./data/cluster_one.csv\", sep=',', index=False)"
   ]
  },
  {
   "cell_type": "code",
   "execution_count": 38,
   "id": "proved-insulin",
   "metadata": {},
   "outputs": [],
   "source": [
    "# Cluster Two\n",
    "tmp_list = []\n",
    "for x in df_two.iterrows():\n",
    "    try:\n",
    "        #print(x[1]['Company'])\n",
    "        tmp = yf.Ticker(x[1]['Company'])\n",
    "        tmp_list.append([x[1]['Company'], tmp.info['sector'], tmp.info['industry'], tmp.info['fullTimeEmployees'], tmp.info['netIncomeToCommon']])\n",
    "    except KeyError:\n",
    "        continue"
   ]
  },
  {
   "cell_type": "code",
   "execution_count": 39,
   "id": "organic-subscriber",
   "metadata": {},
   "outputs": [],
   "source": [
    "cluster_two = pd.DataFrame(tmp_list, columns=['Company', 'Sector', 'Industry', 'No. of Employees', 'Net Income to Common Stakeholders'])\n",
    "cluster_two.to_csv(\"./data/cluster_two.csv\", sep=',', index=False)"
   ]
  },
  {
   "cell_type": "code",
   "execution_count": 36,
   "id": "recognized-franklin",
   "metadata": {},
   "outputs": [],
   "source": [
    "# Cluster Three\n",
    "tmp_list = []\n",
    "for x in df_three.iterrows():\n",
    "    try:\n",
    "        #print(x[1]['Company'])\n",
    "        tmp = yf.Ticker(x[1]['Company'])\n",
    "        tmp_list.append([x[1]['Company'], tmp.info['sector'], tmp.info['industry'], tmp.info['fullTimeEmployees'], tmp.info['netIncomeToCommon']])\n",
    "    except KeyError:\n",
    "        continue"
   ]
  },
  {
   "cell_type": "code",
   "execution_count": 37,
   "id": "bacterial-geography",
   "metadata": {},
   "outputs": [],
   "source": [
    "cluster_three = pd.DataFrame(tmp_list, columns=['Company', 'Sector', 'Industry', 'No. of Employees', 'Net Income to Common Stakeholders'])\n",
    "cluster_three.to_csv(\"./data/cluster_three.csv\", sep=',', index=False)"
   ]
  },
  {
   "cell_type": "code",
   "execution_count": 22,
   "id": "every-particular",
   "metadata": {},
   "outputs": [],
   "source": [
    "# Cluster Four\n",
    "tmp_list = []\n",
    "for x in df_four.iterrows():\n",
    "    #print(x[1]['Company'])\n",
    "    tmp = yf.Ticker(x[1]['Company'])\n",
    "    tmp_list.append([x[1]['Company'], tmp.info['sector'], tmp.info['industry'], tmp.info['fullTimeEmployees'], tmp.info['netIncomeToCommon']])"
   ]
  },
  {
   "cell_type": "code",
   "execution_count": 24,
   "id": "operational-function",
   "metadata": {},
   "outputs": [],
   "source": [
    "cluster_four = pd.DataFrame(tmp_list, columns=['Company', 'Sector', 'Industry', 'No. of Employees', 'Net Income to Common Stakeholders'])\n",
    "cluster_four.to_csv(\"./data/cluster_four.csv\", sep=',', index=False)"
   ]
  },
  {
   "cell_type": "code",
   "execution_count": 31,
   "id": "intellectual-europe",
   "metadata": {},
   "outputs": [],
   "source": [
    "# Cluster Five\n",
    "tmp_list = []\n",
    "for x in df_five.iterrows():\n",
    "    try:\n",
    "        #print(x[1]['Company'])\n",
    "        tmp = yf.Ticker(x[1]['Company'])\n",
    "        #print(tmp.info)\n",
    "        tmp_list.append([x[1]['Company'], tmp.info['sector'], tmp.info['industry'], tmp.info['fullTimeEmployees'], tmp.info['netIncomeToCommon']])\n",
    "    except KeyError:\n",
    "        continue"
   ]
  },
  {
   "cell_type": "code",
   "execution_count": 32,
   "id": "second-entrance",
   "metadata": {},
   "outputs": [],
   "source": [
    "cluster_five = pd.DataFrame(tmp_list, columns=['Company', 'Sector', 'Industry', 'No. of Employees', 'Net Income to Common Stakeholders'])\n",
    "cluster_five.to_csv(\"./data/cluster_five.csv\", sep=',', index=False)"
   ]
  },
  {
   "cell_type": "code",
   "execution_count": 34,
   "id": "sapphire-democracy",
   "metadata": {},
   "outputs": [],
   "source": [
    "# Cluster Six\n",
    "tmp_list = []\n",
    "for x in df_six.iterrows():\n",
    "    try:\n",
    "        #print(x[1]['Company'])\n",
    "        tmp = yf.Ticker(x[1]['Company'])\n",
    "        tmp_list.append([x[1]['Company'], tmp.info['sector'], tmp.info['industry'], tmp.info['fullTimeEmployees'], tmp.info['netIncomeToCommon']])\n",
    "    except KeyError:\n",
    "        continue"
   ]
  },
  {
   "cell_type": "code",
   "execution_count": 35,
   "id": "square-expansion",
   "metadata": {},
   "outputs": [],
   "source": [
    "cluster_six = pd.DataFrame(tmp_list, columns=['Company', 'Sector', 'Industry', 'No. of Employees', 'Net Income to Common Stakeholders'])\n",
    "cluster_six.to_csv(\"./data/cluster_six.csv\", sep=',', index=False)"
   ]
  },
  {
   "cell_type": "code",
   "execution_count": null,
   "id": "sapphire-lending",
   "metadata": {},
   "outputs": [],
   "source": []
  }
 ],
 "metadata": {
  "kernelspec": {
   "display_name": "Python 3",
   "language": "python",
   "name": "python3"
  },
  "language_info": {
   "codemirror_mode": {
    "name": "ipython",
    "version": 3
   },
   "file_extension": ".py",
   "mimetype": "text/x-python",
   "name": "python",
   "nbconvert_exporter": "python",
   "pygments_lexer": "ipython3",
   "version": "3.8.5"
  }
 },
 "nbformat": 4,
 "nbformat_minor": 5
}
