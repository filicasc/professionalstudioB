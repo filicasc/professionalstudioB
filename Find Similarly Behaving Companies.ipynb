{
 "cells": [
  {
   "cell_type": "code",
   "execution_count": 1,
   "metadata": {},
   "outputs": [
    {
     "ename": "ModuleNotFoundError",
     "evalue": "No module named 'hdbscan'",
     "output_type": "error",
     "traceback": [
      "\u001b[0;31m---------------------------------------------------------------------------\u001b[0m",
      "\u001b[0;31mModuleNotFoundError\u001b[0m                       Traceback (most recent call last)",
      "\u001b[0;32m<ipython-input-1-6792088ffad8>\u001b[0m in \u001b[0;36m<module>\u001b[0;34m\u001b[0m\n\u001b[1;32m      3\u001b[0m \u001b[0;32mimport\u001b[0m \u001b[0mpandas\u001b[0m \u001b[0;32mas\u001b[0m \u001b[0mpd\u001b[0m\u001b[0;34m\u001b[0m\u001b[0;34m\u001b[0m\u001b[0m\n\u001b[1;32m      4\u001b[0m \u001b[0;32mimport\u001b[0m \u001b[0mumap\u001b[0m\u001b[0;34m\u001b[0m\u001b[0;34m\u001b[0m\u001b[0m\n\u001b[0;32m----> 5\u001b[0;31m \u001b[0;32mimport\u001b[0m \u001b[0mhdbscan\u001b[0m\u001b[0;34m\u001b[0m\u001b[0;34m\u001b[0m\u001b[0m\n\u001b[0m\u001b[1;32m      6\u001b[0m \u001b[0;32mfrom\u001b[0m \u001b[0msklearn\u001b[0m\u001b[0;34m.\u001b[0m\u001b[0mmodel_selection\u001b[0m \u001b[0;32mimport\u001b[0m \u001b[0mtrain_test_split\u001b[0m\u001b[0;34m\u001b[0m\u001b[0;34m\u001b[0m\u001b[0m\n\u001b[1;32m      7\u001b[0m \u001b[0;32mfrom\u001b[0m \u001b[0msklearn\u001b[0m\u001b[0;34m.\u001b[0m\u001b[0mpreprocessing\u001b[0m \u001b[0;32mimport\u001b[0m \u001b[0mnormalize\u001b[0m\u001b[0;34m\u001b[0m\u001b[0;34m\u001b[0m\u001b[0m\n",
      "\u001b[0;31mModuleNotFoundError\u001b[0m: No module named 'hdbscan'"
     ]
    }
   ],
   "source": [
    "import numpy as np\n",
    "import matplotlib.pyplot as plt\n",
    "import pandas as pd\n",
    "import umap\n",
    "import hdbscan\n",
    "from sklearn.model_selection import train_test_split\n",
    "from sklearn.preprocessing import normalize\n",
    "from sklearn.preprocessing import StandardScaler\n",
    "import sys\n",
    "import argparse\n",
    "import geopy.distance"
   ]
  },
  {
   "cell_type": "code",
   "execution_count": null,
   "metadata": {},
   "outputs": [],
   "source": [
    "stocks = pd.read_csv(\"data/SP500_stock.csv\", index_col = 0)"
   ]
  },
  {
   "cell_type": "code",
   "execution_count": null,
   "metadata": {},
   "outputs": [],
   "source": [
    "stocks['stock_change'] = stocks['close'] - stocks['open'] # Create new column of difference between close and open values\n",
    "stocks = stocks.drop(['open','high','low','close','volume'], axis=1) # Drop unnecessary columns\n",
    "stocks = stocks.reset_index() \n",
    "stocks = stocks.pivot(index='Name', columns='date') # Restructure dataframe\n",
    "\n",
    "stocks = stocks.fillna(0) #pandas version of replacing NaN values to 0"
   ]
  },
  {
   "cell_type": "code",
   "execution_count": null,
   "metadata": {},
   "outputs": [],
   "source": [
    "#print(stocks.head(5))\n",
    "# create two arrays of values and index (companies)\n",
    "movements = stocks.values\n",
    "companies = stocks.index\n",
    "    \n",
    "# sklearn's normalize function to convert values into the same scale\n",
    "normalized_movements = normalize(movements)\n",
    "\n",
    "    # UMAP application\n",
    "standard_embedding = umap.UMAP().fit_transform(normalized_movements)\n",
    "\n",
    "    # create two more arrays of resulting features to go into x and y coordinates of scatter plot\n",
    "xs = standard_embedding[:,0]\n",
    "ys = standard_embedding[:,1]\n",
    "\n",
    "test_list = []\n",
    "\n",
    "    #scatter plot\n",
    "fig, ax = plt.subplots(figsize = [15, 10])\n",
    "scat = plt.scatter(xs, ys, alpha=0.5)\n",
    "\n",
    "for x, y, company in zip(xs, ys, companies):\n",
    "    plt.annotate(company, (x, y), fontsize=9, alpha=0.75)\n",
    "    test_list.append([company,[x,y]])\n",
    "plt.tight_layout\n",
    "plt.title('UMAP Projection of SP500 Stocks Dataset', fontsize=24)\n",
    "plt.show()"
   ]
  },
  {
   "cell_type": "code",
   "execution_count": null,
   "metadata": {},
   "outputs": [],
   "source": [
    "print(companies[0],xs[0],ys[0])"
   ]
  },
  {
   "cell_type": "code",
   "execution_count": null,
   "metadata": {},
   "outputs": [],
   "source": [
    "#print(scat.get_offsets())\n",
    "print(test_list[4])\n",
    "print(test_list[7])"
   ]
  },
  {
   "cell_type": "code",
   "execution_count": null,
   "metadata": {},
   "outputs": [],
   "source": [
    "print(geopy.distance.distance(test_list[4][1], test_list[7][1]))"
   ]
  },
  {
   "cell_type": "code",
   "execution_count": null,
   "metadata": {},
   "outputs": [],
   "source": [
    "res = [test_list[0]]\n",
    "excess = []\n",
    "for a in test_list[1:]:\n",
    "    if geopy.distance.distance(test_list[0][1], a[1]) < 250:\n",
    "        res +=[a]\n",
    "    else:\n",
    "        excess.append(a)\n"
   ]
  },
  {
   "cell_type": "code",
   "execution_count": null,
   "metadata": {},
   "outputs": [],
   "source": [
    "restwo=[excess[0]]\n",
    "excesstwo = []\n",
    "for a in excess[1:]:\n",
    "    if geopy.distance.distance(excess[0][1], a[1]) < 250:\n",
    "        restwo +=[a]\n",
    "    else:\n",
    "        excesstwo.append(a)"
   ]
  },
  {
   "cell_type": "code",
   "execution_count": null,
   "metadata": {},
   "outputs": [],
   "source": [
    "#print(restwo)"
   ]
  },
  {
   "cell_type": "code",
   "execution_count": null,
   "metadata": {},
   "outputs": [],
   "source": []
  }
 ],
 "metadata": {
  "kernelspec": {
   "display_name": "Python 3",
   "language": "python",
   "name": "python3"
  },
  "language_info": {
   "codemirror_mode": {
    "name": "ipython",
    "version": 3
   },
   "file_extension": ".py",
   "mimetype": "text/x-python",
   "name": "python",
   "nbconvert_exporter": "python",
   "pygments_lexer": "ipython3",
   "version": "3.8.3"
  }
 },
 "nbformat": 4,
 "nbformat_minor": 5
}
