{
 "cells": [
  {
   "cell_type": "code",
   "execution_count": 1,
   "id": "curious-canberra",
   "metadata": {},
   "outputs": [],
   "source": [
    "import numpy as np\n",
    "import matplotlib.pyplot as plt\n",
    "import pandas as pd\n",
    "import umap\n",
    "import hdbscan\n",
    "from sklearn.model_selection import train_test_split\n",
    "from sklearn.preprocessing import normalize\n",
    "from sklearn.preprocessing import StandardScaler\n",
    "import sys\n",
    "import argparse\n",
    "import geopy.distance"
   ]
  },
  {
   "cell_type": "code",
   "execution_count": 38,
   "id": "british-joshua",
   "metadata": {},
   "outputs": [],
   "source": [
    "stocks = pd.read_csv(\"data/SP500_latest_stock.csv\", index_col = 0)"
   ]
  },
  {
   "cell_type": "code",
   "execution_count": 39,
   "id": "quarterly-beijing",
   "metadata": {},
   "outputs": [],
   "source": [
    "stocks['stock_change'] = stocks['close'] - stocks['open'] # Create new column of difference between close and open values\n",
    "stocks = stocks.drop(['open','high','low','close','adj_close','volume'], axis=1) # Drop unnecessary columns\n",
    "stocks = stocks.reset_index() \n",
    "stocks = stocks.pivot(index='Name', columns='date') # Restructure dataframe\n",
    "stocks = stocks.fillna(0) #pandas version of replacing NaN values to 0"
   ]
  },
  {
   "cell_type": "code",
   "execution_count": null,
   "id": "auburn-heath",
   "metadata": {},
   "outputs": [],
   "source": []
  }
 ],
 "metadata": {
  "kernelspec": {
   "display_name": "Python 3",
   "language": "python",
   "name": "python3"
  },
  "language_info": {
   "codemirror_mode": {
    "name": "ipython",
    "version": 3
   },
   "file_extension": ".py",
   "mimetype": "text/x-python",
   "name": "python",
   "nbconvert_exporter": "python",
   "pygments_lexer": "ipython3",
   "version": "3.8.5"
  }
 },
 "nbformat": 4,
 "nbformat_minor": 5
}
